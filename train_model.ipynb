{
 "cells": [
  {
   "cell_type": "markdown",
   "id": "0b2d2190",
   "metadata": {},
   "source": [
    "Create a new model, train it and evaluate it on the test set."
   ]
  },
  {
   "cell_type": "code",
   "execution_count": 1,
   "id": "171c7806",
   "metadata": {},
   "outputs": [],
   "source": [
    "import tensorflow as tf\n",
    "import pandas as pd\n",
    "import numpy as np\n",
    "import dataset\n",
    "import predict"
   ]
  },
  {
   "cell_type": "markdown",
   "id": "539f1441",
   "metadata": {},
   "source": [
    "Load existing data"
   ]
  },
  {
   "cell_type": "code",
   "execution_count": 2,
   "id": "9a6cae02",
   "metadata": {},
   "outputs": [],
   "source": [
    "data = pd.read_csv('data/EPL_processed_results.csv', index_col=0)"
   ]
  },
  {
   "cell_type": "code",
   "execution_count": 3,
   "id": "3a172e04",
   "metadata": {},
   "outputs": [],
   "source": [
    "X_train, y_train, X_val, y_val, X_test, y_test = dataset.generate_train_val_test_sets(data)"
   ]
  },
  {
   "cell_type": "markdown",
   "id": "157a83c3",
   "metadata": {},
   "source": [
    "Create new model"
   ]
  },
  {
   "cell_type": "code",
   "execution_count": 4,
   "id": "437be64e",
   "metadata": {},
   "outputs": [],
   "source": [
    "predictor = predict.Predictor()\n",
    "predictor.load_train_val(X_train, y_train, X_val, y_val)"
   ]
  },
  {
   "cell_type": "code",
   "execution_count": 5,
   "id": "cd13d593",
   "metadata": {
    "scrolled": true
   },
   "outputs": [
    {
     "name": "stderr",
     "output_type": "stream",
     "text": [
      "2022-03-28 22:33:06.620213: I tensorflow/core/platform/cpu_feature_guard.cc:151] This TensorFlow binary is optimized with oneAPI Deep Neural Network Library (oneDNN) to use the following CPU instructions in performance-critical operations:  SSE4.1 SSE4.2 AVX AVX2 FMA\n",
      "To enable them in other operations, rebuild TensorFlow with the appropriate compiler flags.\n"
     ]
    }
   ],
   "source": [
    "predictor.get_model(random_seed=666)"
   ]
  },
  {
   "cell_type": "code",
   "execution_count": 6,
   "id": "478a4661",
   "metadata": {
    "scrolled": false
   },
   "outputs": [
    {
     "name": "stdout",
     "output_type": "stream",
     "text": [
      "Model: \"sequential\"\n",
      "_________________________________________________________________\n",
      " Layer (type)                Output Shape              Param #   \n",
      "=================================================================\n",
      " normalization (Normalizatio  (None, 15)               31        \n",
      " n)                                                              \n",
      "                                                                 \n",
      " dense (Dense)               (None, 16)                256       \n",
      "                                                                 \n",
      " dropout (Dropout)           (None, 16)                0         \n",
      "                                                                 \n",
      " dense_1 (Dense)             (None, 3)                 51        \n",
      "                                                                 \n",
      "=================================================================\n",
      "Total params: 338\n",
      "Trainable params: 307\n",
      "Non-trainable params: 31\n",
      "_________________________________________________________________\n",
      "None\n"
     ]
    }
   ],
   "source": [
    "print(predictor.model.summary())"
   ]
  },
  {
   "cell_type": "markdown",
   "id": "3a0a93c8",
   "metadata": {},
   "source": [
    "Train the model on the train set and save the model"
   ]
  },
  {
   "cell_type": "code",
   "execution_count": 7,
   "id": "1c11a435",
   "metadata": {
    "scrolled": false
   },
   "outputs": [
    {
     "name": "stdout",
     "output_type": "stream",
     "text": [
      "Epoch 1/100\n",
      "89/89 [==============================] - 1s 4ms/step - loss: 1.3785 - accuracy: 0.3498 - val_loss: 1.0877 - val_accuracy: 0.4219\n",
      "Epoch 2/100\n",
      "89/89 [==============================] - 0s 2ms/step - loss: 1.1607 - accuracy: 0.3860 - val_loss: 1.0311 - val_accuracy: 0.4473\n",
      "Epoch 3/100\n",
      "89/89 [==============================] - 0s 2ms/step - loss: 1.1018 - accuracy: 0.4296 - val_loss: 1.0169 - val_accuracy: 0.4669\n",
      "Epoch 4/100\n",
      "89/89 [==============================] - 0s 2ms/step - loss: 1.0808 - accuracy: 0.4395 - val_loss: 1.0110 - val_accuracy: 0.4866\n",
      "Epoch 5/100\n",
      "89/89 [==============================] - 0s 2ms/step - loss: 1.0600 - accuracy: 0.4532 - val_loss: 1.0080 - val_accuracy: 0.4993\n",
      "Epoch 6/100\n",
      "89/89 [==============================] - 0s 2ms/step - loss: 1.0589 - accuracy: 0.4557 - val_loss: 1.0062 - val_accuracy: 0.5148\n",
      "Epoch 7/100\n",
      "89/89 [==============================] - 0s 2ms/step - loss: 1.0540 - accuracy: 0.4616 - val_loss: 1.0056 - val_accuracy: 0.5176\n",
      "Epoch 8/100\n",
      "89/89 [==============================] - 0s 2ms/step - loss: 1.0315 - accuracy: 0.4711 - val_loss: 1.0045 - val_accuracy: 0.5260\n",
      "Epoch 9/100\n",
      "89/89 [==============================] - 0s 2ms/step - loss: 1.0327 - accuracy: 0.4747 - val_loss: 1.0041 - val_accuracy: 0.5260\n",
      "Epoch 10/100\n",
      "89/89 [==============================] - 0s 2ms/step - loss: 1.0286 - accuracy: 0.4775 - val_loss: 1.0042 - val_accuracy: 0.5274\n",
      "Epoch 11/100\n",
      "89/89 [==============================] - 0s 2ms/step - loss: 1.0281 - accuracy: 0.4747 - val_loss: 1.0036 - val_accuracy: 0.5288\n",
      "Epoch 12/100\n",
      "89/89 [==============================] - 0s 2ms/step - loss: 1.0305 - accuracy: 0.4859 - val_loss: 1.0035 - val_accuracy: 0.5316\n",
      "Epoch 13/100\n",
      "89/89 [==============================] - 0s 2ms/step - loss: 1.0174 - accuracy: 0.4880 - val_loss: 1.0036 - val_accuracy: 0.5232\n",
      "Epoch 14/100\n",
      "89/89 [==============================] - 0s 2ms/step - loss: 1.0293 - accuracy: 0.4821 - val_loss: 1.0032 - val_accuracy: 0.5204\n",
      "Epoch 15/100\n",
      "89/89 [==============================] - 0s 2ms/step - loss: 1.0188 - accuracy: 0.4954 - val_loss: 1.0027 - val_accuracy: 0.5232\n",
      "Epoch 16/100\n",
      "89/89 [==============================] - 0s 2ms/step - loss: 1.0132 - accuracy: 0.4951 - val_loss: 1.0021 - val_accuracy: 0.5288\n",
      "Epoch 17/100\n",
      "89/89 [==============================] - 0s 2ms/step - loss: 1.0145 - accuracy: 0.4993 - val_loss: 1.0017 - val_accuracy: 0.5274\n",
      "Epoch 18/100\n",
      "89/89 [==============================] - 0s 2ms/step - loss: 1.0107 - accuracy: 0.4989 - val_loss: 1.0024 - val_accuracy: 0.5302\n",
      "Epoch 19/100\n",
      "89/89 [==============================] - 0s 2ms/step - loss: 1.0088 - accuracy: 0.5049 - val_loss: 1.0017 - val_accuracy: 0.5316\n",
      "Epoch 20/100\n",
      "89/89 [==============================] - 0s 2ms/step - loss: 1.0037 - accuracy: 0.5091 - val_loss: 1.0011 - val_accuracy: 0.5373\n",
      "Epoch 21/100\n",
      "89/89 [==============================] - 0s 2ms/step - loss: 1.0124 - accuracy: 0.4989 - val_loss: 1.0015 - val_accuracy: 0.5359\n",
      "Epoch 22/100\n",
      "89/89 [==============================] - 0s 2ms/step - loss: 1.0140 - accuracy: 0.5000 - val_loss: 1.0014 - val_accuracy: 0.5387\n",
      "Epoch 23/100\n",
      "89/89 [==============================] - 0s 2ms/step - loss: 1.0149 - accuracy: 0.4993 - val_loss: 1.0006 - val_accuracy: 0.5387\n",
      "Epoch 24/100\n",
      "89/89 [==============================] - 0s 2ms/step - loss: 0.9999 - accuracy: 0.5123 - val_loss: 0.9997 - val_accuracy: 0.5387\n",
      "Epoch 25/100\n",
      "89/89 [==============================] - 0s 2ms/step - loss: 1.0058 - accuracy: 0.4996 - val_loss: 0.9997 - val_accuracy: 0.5373\n",
      "Epoch 26/100\n",
      "89/89 [==============================] - 0s 2ms/step - loss: 1.0058 - accuracy: 0.5056 - val_loss: 0.9997 - val_accuracy: 0.5373\n",
      "Epoch 27/100\n",
      "89/89 [==============================] - 0s 2ms/step - loss: 1.0140 - accuracy: 0.4923 - val_loss: 1.0003 - val_accuracy: 0.5316\n",
      "Epoch 28/100\n",
      "89/89 [==============================] - 0s 4ms/step - loss: 1.0069 - accuracy: 0.5053 - val_loss: 1.0001 - val_accuracy: 0.5302\n",
      "Epoch 29/100\n",
      "89/89 [==============================] - 0s 5ms/step - loss: 1.0018 - accuracy: 0.5060 - val_loss: 0.9990 - val_accuracy: 0.5288\n",
      "Epoch 30/100\n",
      "89/89 [==============================] - 0s 4ms/step - loss: 1.0057 - accuracy: 0.4993 - val_loss: 0.9989 - val_accuracy: 0.5316\n",
      "Epoch 31/100\n",
      "89/89 [==============================] - 0s 2ms/step - loss: 1.0031 - accuracy: 0.5099 - val_loss: 0.9990 - val_accuracy: 0.5331\n",
      "Epoch 32/100\n",
      "89/89 [==============================] - 0s 2ms/step - loss: 0.9977 - accuracy: 0.5049 - val_loss: 0.9985 - val_accuracy: 0.5316\n",
      "Epoch 33/100\n",
      "89/89 [==============================] - 0s 3ms/step - loss: 1.0014 - accuracy: 0.5070 - val_loss: 0.9982 - val_accuracy: 0.5316\n",
      "Epoch 34/100\n",
      "89/89 [==============================] - 0s 3ms/step - loss: 0.9986 - accuracy: 0.5148 - val_loss: 0.9992 - val_accuracy: 0.5302\n",
      "Epoch 35/100\n",
      "89/89 [==============================] - 0s 2ms/step - loss: 1.0039 - accuracy: 0.5091 - val_loss: 0.9989 - val_accuracy: 0.5316\n",
      "Epoch 36/100\n",
      "89/89 [==============================] - 0s 2ms/step - loss: 1.0050 - accuracy: 0.5049 - val_loss: 0.9984 - val_accuracy: 0.5302\n",
      "Epoch 37/100\n",
      "89/89 [==============================] - 0s 2ms/step - loss: 1.0079 - accuracy: 0.5035 - val_loss: 0.9987 - val_accuracy: 0.5316\n",
      "Epoch 38/100\n",
      "89/89 [==============================] - 0s 2ms/step - loss: 0.9996 - accuracy: 0.5088 - val_loss: 0.9977 - val_accuracy: 0.5316\n",
      "Epoch 39/100\n",
      "89/89 [==============================] - 0s 2ms/step - loss: 1.0001 - accuracy: 0.5148 - val_loss: 0.9974 - val_accuracy: 0.5288\n",
      "Epoch 40/100\n",
      "89/89 [==============================] - 0s 2ms/step - loss: 1.0047 - accuracy: 0.5109 - val_loss: 0.9974 - val_accuracy: 0.5288\n",
      "Epoch 41/100\n",
      "89/89 [==============================] - 0s 2ms/step - loss: 1.0047 - accuracy: 0.5183 - val_loss: 0.9974 - val_accuracy: 0.5288\n",
      "Epoch 42/100\n",
      "89/89 [==============================] - 0s 2ms/step - loss: 0.9966 - accuracy: 0.5123 - val_loss: 0.9975 - val_accuracy: 0.5316\n",
      "Epoch 43/100\n",
      "89/89 [==============================] - 0s 3ms/step - loss: 1.0048 - accuracy: 0.5141 - val_loss: 0.9977 - val_accuracy: 0.5316\n",
      "Epoch 44/100\n",
      "89/89 [==============================] - 0s 4ms/step - loss: 1.0024 - accuracy: 0.5042 - val_loss: 0.9980 - val_accuracy: 0.5331\n",
      "Epoch 45/100\n",
      "89/89 [==============================] - 0s 4ms/step - loss: 1.0006 - accuracy: 0.5081 - val_loss: 0.9980 - val_accuracy: 0.5387\n",
      "Epoch 46/100\n",
      "89/89 [==============================] - 0s 4ms/step - loss: 1.0025 - accuracy: 0.5113 - val_loss: 0.9978 - val_accuracy: 0.5359\n",
      "Epoch 47/100\n",
      "89/89 [==============================] - 0s 4ms/step - loss: 0.9992 - accuracy: 0.5127 - val_loss: 0.9980 - val_accuracy: 0.5373\n",
      "Epoch 48/100\n",
      "89/89 [==============================] - 0s 4ms/step - loss: 0.9985 - accuracy: 0.5095 - val_loss: 0.9985 - val_accuracy: 0.5373\n",
      "Epoch 49/100\n",
      "89/89 [==============================] - 0s 5ms/step - loss: 0.9931 - accuracy: 0.5186 - val_loss: 0.9986 - val_accuracy: 0.5387\n",
      "Epoch 50/100\n",
      "89/89 [==============================] - 0s 4ms/step - loss: 0.9955 - accuracy: 0.5172 - val_loss: 0.9985 - val_accuracy: 0.5387\n"
     ]
    },
    {
     "data": {
      "image/png": "[encoded data removed]",
      "text/plain": [
       "<Figure size 1080x504 with 1 Axes>"
      ]
     },
     "metadata": {
      "needs_background": "light"
     },
     "output_type": "display_data"
    },
    {
     "name": "stderr",
     "output_type": "stream",
     "text": [
      "2022-03-28 22:33:20.481736: W tensorflow/python/util/util.cc:368] Sets are not currently considered sequences, but this may change in the future, so consider avoiding using them.\n"
     ]
    },
    {
     "name": "stdout",
     "output_type": "stream",
     "text": [
      "INFO:tensorflow:Assets written to: model/assets\n",
      "Model saved in model\n"
     ]
    }
   ],
   "source": [
    "predictor.train(plot=True, save_model=True)"
   ]
  }
 ],
 "metadata": {
  "kernelspec": {
   "display_name": "Python 3 (ipykernel)",
   "language": "python",
   "name": "python3"
  },
  "language_info": {
   "codemirror_mode": {
    "name": "ipython",
    "version": 3
   },
   "file_extension": ".py",
   "mimetype": "text/x-python",
   "name": "python",
   "nbconvert_exporter": "python",
   "pygments_lexer": "ipython3",
   "version": "3.9.7"
  }
 },
 "nbformat": 4,
 "nbformat_minor": 5
}
