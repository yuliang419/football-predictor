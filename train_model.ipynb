{
 "cells": [
  {
   "cell_type": "markdown",
   "id": "0b2d2190",
   "metadata": {},
   "source": [
    "Create a new model, train it and evaluate it on the test set."
   ]
  },
  {
   "cell_type": "code",
   "execution_count": 1,
   "id": "171c7806",
   "metadata": {},
   "outputs": [],
   "source": [
    "import tensorflow as tf\n",
    "import pandas as pd\n",
    "import numpy as np\n",
    "import dataset\n",
    "import predict"
   ]
  },
  {
   "cell_type": "markdown",
   "id": "539f1441",
   "metadata": {},
   "source": [
    "Load existing data"
   ]
  },
  {
   "cell_type": "code",
   "execution_count": 2,
   "id": "9a6cae02",
   "metadata": {},
   "outputs": [],
   "source": [
    "data = pd.read_csv('data/EPL_processed_results.csv', index_col=0)"
   ]
  },
  {
   "cell_type": "code",
   "execution_count": 3,
   "id": "3a172e04",
   "metadata": {},
   "outputs": [],
   "source": [
    "X_train, y_train, X_val, y_val, X_test, y_test = dataset.generate_train_val_test_sets(data)"
   ]
  },
  {
   "cell_type": "markdown",
   "id": "157a83c3",
   "metadata": {},
   "source": [
    "Create new model"
   ]
  },
  {
   "cell_type": "code",
   "execution_count": 4,
   "id": "437be64e",
   "metadata": {},
   "outputs": [],
   "source": [
    "predictor = predict.Predictor()\n",
    "predictor.load_train_val(X_train, y_train, X_val, y_val)"
   ]
  },
  {
   "cell_type": "code",
   "execution_count": 8,
   "id": "cd13d593",
   "metadata": {
    "scrolled": true
   },
   "outputs": [],
   "source": [
    "predictor.get_model(random_seed=42)"
   ]
  },
  {
   "cell_type": "code",
   "execution_count": 9,
   "id": "478a4661",
   "metadata": {
    "scrolled": false
   },
   "outputs": [
    {
     "name": "stdout",
     "output_type": "stream",
     "text": [
      "Model: \"sequential_1\"\n",
      "_________________________________________________________________\n",
      " Layer (type)                Output Shape              Param #   \n",
      "=================================================================\n",
      " normalization_1 (Normalizat  (None, 15)               31        \n",
      " ion)                                                            \n",
      "                                                                 \n",
      " dense_2 (Dense)             (None, 16)                256       \n",
      "                                                                 \n",
      " dropout_1 (Dropout)         (None, 16)                0         \n",
      "                                                                 \n",
      " dense_3 (Dense)             (None, 3)                 51        \n",
      "                                                                 \n",
      "=================================================================\n",
      "Total params: 338\n",
      "Trainable params: 307\n",
      "Non-trainable params: 31\n",
      "_________________________________________________________________\n",
      "None\n"
     ]
    }
   ],
   "source": [
    "print(predictor.model.summary())"
   ]
  },
  {
   "cell_type": "markdown",
   "id": "3a0a93c8",
   "metadata": {},
   "source": [
    "Train the model on the train set and save the model"
   ]
  },
  {
   "cell_type": "code",
   "execution_count": 10,
   "id": "1c11a435",
   "metadata": {
    "scrolled": false
   },
   "outputs": [
    {
     "name": "stdout",
     "output_type": "stream",
     "text": [
      "Epoch 1/100\n",
      "89/89 [==============================] - 1s 6ms/step - loss: 1.3488 - accuracy: 0.3691 - val_loss: 1.0603 - val_accuracy: 0.4585\n",
      "Epoch 2/100\n",
      "89/89 [==============================] - 0s 4ms/step - loss: 1.1451 - accuracy: 0.4303 - val_loss: 1.0287 - val_accuracy: 0.4796\n",
      "Epoch 3/100\n",
      "89/89 [==============================] - 0s 3ms/step - loss: 1.0951 - accuracy: 0.4525 - val_loss: 1.0186 - val_accuracy: 0.5091\n",
      "Epoch 4/100\n",
      "89/89 [==============================] - 0s 3ms/step - loss: 1.0743 - accuracy: 0.4602 - val_loss: 1.0141 - val_accuracy: 0.5190\n",
      "Epoch 5/100\n",
      "89/89 [==============================] - 0s 4ms/step - loss: 1.0637 - accuracy: 0.4673 - val_loss: 1.0115 - val_accuracy: 0.5302\n",
      "Epoch 6/100\n",
      "89/89 [==============================] - 0s 4ms/step - loss: 1.0519 - accuracy: 0.4683 - val_loss: 1.0083 - val_accuracy: 0.5373\n",
      "Epoch 7/100\n",
      "89/89 [==============================] - 0s 5ms/step - loss: 1.0409 - accuracy: 0.4838 - val_loss: 1.0064 - val_accuracy: 0.5401\n",
      "Epoch 8/100\n",
      "89/89 [==============================] - 1s 6ms/step - loss: 1.0304 - accuracy: 0.4880 - val_loss: 1.0055 - val_accuracy: 0.5429\n",
      "Epoch 9/100\n",
      "89/89 [==============================] - 0s 4ms/step - loss: 1.0271 - accuracy: 0.4863 - val_loss: 1.0043 - val_accuracy: 0.5457\n",
      "Epoch 10/100\n",
      "89/89 [==============================] - 0s 5ms/step - loss: 1.0207 - accuracy: 0.5035 - val_loss: 1.0031 - val_accuracy: 0.5457\n",
      "Epoch 11/100\n",
      "89/89 [==============================] - 0s 6ms/step - loss: 1.0223 - accuracy: 0.4972 - val_loss: 1.0017 - val_accuracy: 0.5443\n",
      "Epoch 12/100\n",
      "89/89 [==============================] - 1s 8ms/step - loss: 1.0230 - accuracy: 0.4905 - val_loss: 1.0008 - val_accuracy: 0.5415\n",
      "Epoch 13/100\n",
      "89/89 [==============================] - 1s 9ms/step - loss: 1.0086 - accuracy: 0.5011 - val_loss: 0.9999 - val_accuracy: 0.5485\n",
      "Epoch 14/100\n",
      "89/89 [==============================] - 0s 5ms/step - loss: 1.0122 - accuracy: 0.5004 - val_loss: 0.9991 - val_accuracy: 0.5457\n",
      "Epoch 15/100\n",
      "89/89 [==============================] - 1s 12ms/step - loss: 1.0118 - accuracy: 0.5011 - val_loss: 0.9984 - val_accuracy: 0.5443\n",
      "Epoch 16/100\n",
      "89/89 [==============================] - 1s 14ms/step - loss: 1.0142 - accuracy: 0.4940 - val_loss: 0.9978 - val_accuracy: 0.5499\n",
      "Epoch 17/100\n",
      "89/89 [==============================] - 0s 4ms/step - loss: 1.0129 - accuracy: 0.4926 - val_loss: 0.9978 - val_accuracy: 0.5471\n",
      "Epoch 18/100\n",
      "89/89 [==============================] - 0s 4ms/step - loss: 1.0115 - accuracy: 0.5063 - val_loss: 0.9979 - val_accuracy: 0.5471\n",
      "Epoch 19/100\n",
      "89/89 [==============================] - 0s 5ms/step - loss: 1.0075 - accuracy: 0.5120 - val_loss: 0.9975 - val_accuracy: 0.5485\n",
      "Epoch 20/100\n",
      "89/89 [==============================] - 1s 8ms/step - loss: 1.0099 - accuracy: 0.5095 - val_loss: 0.9968 - val_accuracy: 0.5499\n",
      "Epoch 21/100\n",
      "89/89 [==============================] - 0s 4ms/step - loss: 0.9940 - accuracy: 0.5109 - val_loss: 0.9963 - val_accuracy: 0.5499\n",
      "Epoch 22/100\n",
      "89/89 [==============================] - 0s 4ms/step - loss: 1.0171 - accuracy: 0.5004 - val_loss: 0.9966 - val_accuracy: 0.5527\n",
      "Epoch 23/100\n",
      "89/89 [==============================] - 0s 4ms/step - loss: 1.0110 - accuracy: 0.5070 - val_loss: 0.9971 - val_accuracy: 0.5485\n",
      "Epoch 24/100\n",
      "89/89 [==============================] - 0s 4ms/step - loss: 1.0054 - accuracy: 0.5042 - val_loss: 0.9967 - val_accuracy: 0.5443\n",
      "Epoch 25/100\n",
      "89/89 [==============================] - 1s 7ms/step - loss: 1.0064 - accuracy: 0.5109 - val_loss: 0.9963 - val_accuracy: 0.5471\n",
      "Epoch 26/100\n",
      "89/89 [==============================] - 0s 4ms/step - loss: 1.0083 - accuracy: 0.5046 - val_loss: 0.9961 - val_accuracy: 0.5457\n",
      "Epoch 27/100\n",
      "89/89 [==============================] - 0s 4ms/step - loss: 1.0063 - accuracy: 0.5091 - val_loss: 0.9957 - val_accuracy: 0.5499\n",
      "Epoch 28/100\n",
      "89/89 [==============================] - 0s 4ms/step - loss: 1.0012 - accuracy: 0.5074 - val_loss: 0.9953 - val_accuracy: 0.5485\n",
      "Epoch 29/100\n",
      "89/89 [==============================] - 0s 5ms/step - loss: 0.9953 - accuracy: 0.5091 - val_loss: 0.9951 - val_accuracy: 0.5499\n",
      "Epoch 30/100\n",
      "89/89 [==============================] - 0s 4ms/step - loss: 0.9958 - accuracy: 0.5165 - val_loss: 0.9950 - val_accuracy: 0.5499\n",
      "Epoch 31/100\n",
      "89/89 [==============================] - 1s 9ms/step - loss: 1.0016 - accuracy: 0.5120 - val_loss: 0.9948 - val_accuracy: 0.5499\n",
      "Epoch 32/100\n",
      "89/89 [==============================] - 1s 8ms/step - loss: 0.9933 - accuracy: 0.5116 - val_loss: 0.9946 - val_accuracy: 0.5499\n",
      "Epoch 33/100\n",
      "89/89 [==============================] - 0s 5ms/step - loss: 0.9968 - accuracy: 0.5204 - val_loss: 0.9952 - val_accuracy: 0.5471\n",
      "Epoch 34/100\n",
      "89/89 [==============================] - 0s 3ms/step - loss: 1.0014 - accuracy: 0.5095 - val_loss: 0.9954 - val_accuracy: 0.5471\n",
      "Epoch 35/100\n",
      "89/89 [==============================] - 0s 3ms/step - loss: 0.9996 - accuracy: 0.5144 - val_loss: 0.9947 - val_accuracy: 0.5513\n",
      "Epoch 36/100\n",
      "89/89 [==============================] - 0s 4ms/step - loss: 0.9953 - accuracy: 0.5215 - val_loss: 0.9944 - val_accuracy: 0.5485\n",
      "Epoch 37/100\n",
      "89/89 [==============================] - 0s 3ms/step - loss: 0.9904 - accuracy: 0.5169 - val_loss: 0.9943 - val_accuracy: 0.5499\n",
      "Epoch 38/100\n",
      "89/89 [==============================] - 0s 3ms/step - loss: 0.9911 - accuracy: 0.5186 - val_loss: 0.9938 - val_accuracy: 0.5485\n",
      "Epoch 39/100\n",
      "89/89 [==============================] - 0s 3ms/step - loss: 1.0015 - accuracy: 0.5120 - val_loss: 0.9946 - val_accuracy: 0.5443\n",
      "Epoch 40/100\n",
      "89/89 [==============================] - 0s 3ms/step - loss: 0.9941 - accuracy: 0.5190 - val_loss: 0.9938 - val_accuracy: 0.5443\n",
      "Epoch 41/100\n",
      "89/89 [==============================] - 0s 3ms/step - loss: 0.9941 - accuracy: 0.5158 - val_loss: 0.9943 - val_accuracy: 0.5471\n",
      "Epoch 42/100\n",
      "89/89 [==============================] - 0s 3ms/step - loss: 0.9926 - accuracy: 0.5215 - val_loss: 0.9944 - val_accuracy: 0.5443\n",
      "Epoch 43/100\n",
      "89/89 [==============================] - 0s 3ms/step - loss: 1.0005 - accuracy: 0.5088 - val_loss: 0.9949 - val_accuracy: 0.5485\n",
      "Epoch 44/100\n",
      "89/89 [==============================] - 0s 3ms/step - loss: 0.9942 - accuracy: 0.5113 - val_loss: 0.9951 - val_accuracy: 0.5499\n",
      "Epoch 45/100\n",
      "89/89 [==============================] - 0s 3ms/step - loss: 0.9985 - accuracy: 0.5067 - val_loss: 0.9958 - val_accuracy: 0.5485\n",
      "Epoch 46/100\n",
      "89/89 [==============================] - 0s 3ms/step - loss: 0.9932 - accuracy: 0.5190 - val_loss: 0.9952 - val_accuracy: 0.5499\n",
      "Epoch 47/100\n",
      "89/89 [==============================] - 0s 4ms/step - loss: 0.9946 - accuracy: 0.5084 - val_loss: 0.9949 - val_accuracy: 0.5499\n",
      "Epoch 48/100\n",
      "89/89 [==============================] - 0s 4ms/step - loss: 0.9950 - accuracy: 0.5222 - val_loss: 0.9951 - val_accuracy: 0.5485\n"
     ]
    },
    {
     "data": {
      "image/png": "[encoded data removed]",
      "text/plain": [
       "<Figure size 1080x504 with 1 Axes>"
      ]
     },
     "metadata": {
      "needs_background": "light"
     },
     "output_type": "display_data"
    },
    {
     "name": "stdout",
     "output_type": "stream",
     "text": [
      "INFO:tensorflow:Assets written to: model/assets\n",
      "Model saved in model\n"
     ]
    }
   ],
   "source": [
    "predictor.train(plot=True, save_model=True)"
   ]
  }
 ],
 "metadata": {
  "kernelspec": {
   "display_name": "Python 3 (ipykernel)",
   "language": "python",
   "name": "python3"
  },
  "language_info": {
   "codemirror_mode": {
    "name": "ipython",
    "version": 3
   },
   "file_extension": ".py",
   "mimetype": "text/x-python",
   "name": "python",
   "nbconvert_exporter": "python",
   "pygments_lexer": "ipython3",
   "version": "3.9.7"
  }
 },
 "nbformat": 4,
 "nbformat_minor": 5
}
