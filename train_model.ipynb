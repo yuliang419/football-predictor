{
 "cells": [
  {
   "cell_type": "markdown",
   "id": "0b2d2190",
   "metadata": {},
   "source": [
    "Create a new model, train it and evaluate it on the test set."
   ]
  },
  {
   "cell_type": "code",
   "execution_count": 1,
   "id": "171c7806",
   "metadata": {},
   "outputs": [],
   "source": [
    "import tensorflow as tf\n",
    "import pandas as pd\n",
    "import numpy as np\n",
    "import dataset\n",
    "import predict"
   ]
  },
  {
   "cell_type": "markdown",
   "id": "539f1441",
   "metadata": {},
   "source": [
    "Load existing data"
   ]
  },
  {
   "cell_type": "code",
   "execution_count": 2,
   "id": "9a6cae02",
   "metadata": {},
   "outputs": [],
   "source": [
    "data = pd.read_csv('data/EPL_processed_results.csv', index_col=0)"
   ]
  },
  {
   "cell_type": "code",
   "execution_count": 3,
   "id": "3a172e04",
   "metadata": {},
   "outputs": [],
   "source": [
    "X_train, y_train, X_val, y_val, X_test, y_test = dataset.generate_train_val_test_sets(data)"
   ]
  },
  {
   "cell_type": "markdown",
   "id": "157a83c3",
   "metadata": {},
   "source": [
    "Create new model"
   ]
  },
  {
   "cell_type": "code",
   "execution_count": 4,
   "id": "437be64e",
   "metadata": {},
   "outputs": [],
   "source": [
    "predictor = predict.Predictor()\n",
    "predictor.load_train_val(X_train, y_train, X_val, y_val)"
   ]
  },
  {
   "cell_type": "code",
   "execution_count": 5,
   "id": "cd13d593",
   "metadata": {
    "scrolled": true
   },
   "outputs": [
    {
     "name": "stderr",
     "output_type": "stream",
     "text": [
      "2022-03-06 16:40:49.899173: I tensorflow/core/platform/cpu_feature_guard.cc:151] This TensorFlow binary is optimized with oneAPI Deep Neural Network Library (oneDNN) to use the following CPU instructions in performance-critical operations:  SSE4.1 SSE4.2 AVX AVX2 FMA\n",
      "To enable them in other operations, rebuild TensorFlow with the appropriate compiler flags.\n"
     ]
    }
   ],
   "source": [
    "predictor.get_model(random_seed=123)"
   ]
  },
  {
   "cell_type": "code",
   "execution_count": 6,
   "id": "478a4661",
   "metadata": {
    "scrolled": false
   },
   "outputs": [
    {
     "name": "stdout",
     "output_type": "stream",
     "text": [
      "Model: \"sequential\"\n",
      "_________________________________________________________________\n",
      " Layer (type)                Output Shape              Param #   \n",
      "=================================================================\n",
      " normalization (Normalizatio  (None, 15)               31        \n",
      " n)                                                              \n",
      "                                                                 \n",
      " dense (Dense)               (None, 16)                256       \n",
      "                                                                 \n",
      " dropout (Dropout)           (None, 16)                0         \n",
      "                                                                 \n",
      " dense_1 (Dense)             (None, 3)                 51        \n",
      "                                                                 \n",
      "=================================================================\n",
      "Total params: 338\n",
      "Trainable params: 307\n",
      "Non-trainable params: 31\n",
      "_________________________________________________________________\n",
      "None\n"
     ]
    }
   ],
   "source": [
    "print(predictor.model.summary())"
   ]
  },
  {
   "cell_type": "markdown",
   "id": "3a0a93c8",
   "metadata": {},
   "source": [
    "Train the model on the train set and save the model"
   ]
  },
  {
   "cell_type": "code",
   "execution_count": 7,
   "id": "1c11a435",
   "metadata": {
    "scrolled": false
   },
   "outputs": [
    {
     "name": "stdout",
     "output_type": "stream",
     "text": [
      "Epoch 1/100\n",
      "89/89 [==============================] - 1s 5ms/step - loss: 1.2758 - accuracy: 0.3740 - val_loss: 1.0352 - val_accuracy: 0.4796\n",
      "Epoch 2/100\n",
      "89/89 [==============================] - 0s 2ms/step - loss: 1.1625 - accuracy: 0.4057 - val_loss: 1.0141 - val_accuracy: 0.4838\n",
      "Epoch 3/100\n",
      "89/89 [==============================] - 0s 3ms/step - loss: 1.1066 - accuracy: 0.4324 - val_loss: 1.0058 - val_accuracy: 0.5049\n",
      "Epoch 4/100\n",
      "89/89 [==============================] - 0s 2ms/step - loss: 1.0802 - accuracy: 0.4493 - val_loss: 1.0014 - val_accuracy: 0.5148\n",
      "Epoch 5/100\n",
      "89/89 [==============================] - 0s 2ms/step - loss: 1.0610 - accuracy: 0.4592 - val_loss: 0.9994 - val_accuracy: 0.5218\n",
      "Epoch 6/100\n",
      "89/89 [==============================] - 0s 2ms/step - loss: 1.0591 - accuracy: 0.4634 - val_loss: 0.9972 - val_accuracy: 0.5302\n",
      "Epoch 7/100\n",
      "89/89 [==============================] - 0s 2ms/step - loss: 1.0433 - accuracy: 0.4687 - val_loss: 0.9956 - val_accuracy: 0.5331\n",
      "Epoch 8/100\n",
      "89/89 [==============================] - 0s 2ms/step - loss: 1.0386 - accuracy: 0.4817 - val_loss: 0.9952 - val_accuracy: 0.5359\n",
      "Epoch 9/100\n",
      "89/89 [==============================] - 0s 2ms/step - loss: 1.0322 - accuracy: 0.4923 - val_loss: 0.9941 - val_accuracy: 0.5429\n",
      "Epoch 10/100\n",
      "89/89 [==============================] - 0s 3ms/step - loss: 1.0281 - accuracy: 0.4968 - val_loss: 0.9943 - val_accuracy: 0.5485\n",
      "Epoch 11/100\n",
      "89/89 [==============================] - 0s 2ms/step - loss: 1.0226 - accuracy: 0.4901 - val_loss: 0.9927 - val_accuracy: 0.5443\n",
      "Epoch 12/100\n",
      "89/89 [==============================] - 0s 3ms/step - loss: 1.0339 - accuracy: 0.4891 - val_loss: 0.9927 - val_accuracy: 0.5457\n",
      "Epoch 13/100\n",
      "89/89 [==============================] - 0s 4ms/step - loss: 1.0237 - accuracy: 0.4986 - val_loss: 0.9923 - val_accuracy: 0.5443\n",
      "Epoch 14/100\n",
      "89/89 [==============================] - 0s 2ms/step - loss: 1.0208 - accuracy: 0.5021 - val_loss: 0.9919 - val_accuracy: 0.5443\n",
      "Epoch 15/100\n",
      "89/89 [==============================] - 0s 2ms/step - loss: 1.0203 - accuracy: 0.5074 - val_loss: 0.9918 - val_accuracy: 0.5457\n",
      "Epoch 16/100\n",
      "89/89 [==============================] - 0s 2ms/step - loss: 1.0209 - accuracy: 0.5007 - val_loss: 0.9912 - val_accuracy: 0.5457\n",
      "Epoch 17/100\n",
      "89/89 [==============================] - 0s 2ms/step - loss: 1.0124 - accuracy: 0.5018 - val_loss: 0.9899 - val_accuracy: 0.5471\n",
      "Epoch 18/100\n",
      "89/89 [==============================] - 0s 2ms/step - loss: 1.0164 - accuracy: 0.5021 - val_loss: 0.9913 - val_accuracy: 0.5513\n",
      "Epoch 19/100\n",
      "89/89 [==============================] - 0s 2ms/step - loss: 1.0130 - accuracy: 0.5039 - val_loss: 0.9907 - val_accuracy: 0.5485\n",
      "Epoch 20/100\n",
      "89/89 [==============================] - 0s 2ms/step - loss: 1.0130 - accuracy: 0.5060 - val_loss: 0.9900 - val_accuracy: 0.5443\n",
      "Epoch 21/100\n",
      "89/89 [==============================] - 0s 2ms/step - loss: 1.0151 - accuracy: 0.4993 - val_loss: 0.9903 - val_accuracy: 0.5443\n",
      "Epoch 22/100\n",
      "89/89 [==============================] - 0s 2ms/step - loss: 1.0087 - accuracy: 0.5130 - val_loss: 0.9903 - val_accuracy: 0.5485\n",
      "Epoch 23/100\n",
      "89/89 [==============================] - 0s 2ms/step - loss: 1.0108 - accuracy: 0.5081 - val_loss: 0.9901 - val_accuracy: 0.5457\n",
      "Epoch 24/100\n",
      "89/89 [==============================] - 0s 2ms/step - loss: 1.0115 - accuracy: 0.5028 - val_loss: 0.9906 - val_accuracy: 0.5443\n",
      "Epoch 25/100\n",
      "89/89 [==============================] - 0s 2ms/step - loss: 1.0059 - accuracy: 0.5011 - val_loss: 0.9895 - val_accuracy: 0.5443\n",
      "Epoch 26/100\n",
      "89/89 [==============================] - 0s 2ms/step - loss: 1.0052 - accuracy: 0.5049 - val_loss: 0.9897 - val_accuracy: 0.5457\n",
      "Epoch 27/100\n",
      "89/89 [==============================] - 0s 2ms/step - loss: 1.0032 - accuracy: 0.5021 - val_loss: 0.9893 - val_accuracy: 0.5471\n",
      "Epoch 28/100\n",
      "89/89 [==============================] - 0s 2ms/step - loss: 0.9984 - accuracy: 0.5151 - val_loss: 0.9887 - val_accuracy: 0.5471\n",
      "Epoch 29/100\n",
      "89/89 [==============================] - 0s 2ms/step - loss: 1.0071 - accuracy: 0.5077 - val_loss: 0.9893 - val_accuracy: 0.5499\n",
      "Epoch 30/100\n",
      "89/89 [==============================] - 0s 3ms/step - loss: 1.0035 - accuracy: 0.5067 - val_loss: 0.9881 - val_accuracy: 0.5499\n",
      "Epoch 31/100\n",
      "89/89 [==============================] - 0s 5ms/step - loss: 0.9991 - accuracy: 0.5134 - val_loss: 0.9879 - val_accuracy: 0.5499\n",
      "Epoch 32/100\n",
      "89/89 [==============================] - 0s 4ms/step - loss: 1.0042 - accuracy: 0.5144 - val_loss: 0.9886 - val_accuracy: 0.5499\n",
      "Epoch 33/100\n",
      "89/89 [==============================] - 0s 4ms/step - loss: 1.0036 - accuracy: 0.5113 - val_loss: 0.9885 - val_accuracy: 0.5513\n",
      "Epoch 34/100\n",
      "89/89 [==============================] - 0s 4ms/step - loss: 1.0102 - accuracy: 0.5014 - val_loss: 0.9889 - val_accuracy: 0.5541\n",
      "Epoch 35/100\n",
      "89/89 [==============================] - 0s 3ms/step - loss: 0.9933 - accuracy: 0.5106 - val_loss: 0.9885 - val_accuracy: 0.5485\n",
      "Epoch 36/100\n",
      "89/89 [==============================] - 0s 2ms/step - loss: 0.9988 - accuracy: 0.5155 - val_loss: 0.9880 - val_accuracy: 0.5443\n",
      "Epoch 37/100\n",
      "89/89 [==============================] - 0s 3ms/step - loss: 0.9991 - accuracy: 0.5074 - val_loss: 0.9881 - val_accuracy: 0.5457\n",
      "Epoch 38/100\n",
      "89/89 [==============================] - 0s 2ms/step - loss: 0.9946 - accuracy: 0.5144 - val_loss: 0.9884 - val_accuracy: 0.5457\n",
      "Epoch 39/100\n",
      "89/89 [==============================] - 0s 4ms/step - loss: 1.0003 - accuracy: 0.5109 - val_loss: 0.9878 - val_accuracy: 0.5457\n",
      "Epoch 40/100\n",
      "89/89 [==============================] - 0s 4ms/step - loss: 0.9987 - accuracy: 0.5158 - val_loss: 0.9874 - val_accuracy: 0.5499\n",
      "Epoch 41/100\n",
      "89/89 [==============================] - 0s 4ms/step - loss: 0.9950 - accuracy: 0.5201 - val_loss: 0.9876 - val_accuracy: 0.5457\n",
      "Epoch 42/100\n",
      "89/89 [==============================] - 0s 2ms/step - loss: 1.0002 - accuracy: 0.5215 - val_loss: 0.9868 - val_accuracy: 0.5471\n",
      "Epoch 43/100\n",
      "89/89 [==============================] - 0s 2ms/step - loss: 0.9954 - accuracy: 0.5127 - val_loss: 0.9864 - val_accuracy: 0.5471\n",
      "Epoch 44/100\n",
      "89/89 [==============================] - 0s 2ms/step - loss: 0.9969 - accuracy: 0.5179 - val_loss: 0.9864 - val_accuracy: 0.5485\n",
      "Epoch 45/100\n",
      "89/89 [==============================] - 0s 3ms/step - loss: 1.0003 - accuracy: 0.5130 - val_loss: 0.9861 - val_accuracy: 0.5541\n",
      "Epoch 46/100\n",
      "89/89 [==============================] - 0s 2ms/step - loss: 0.9970 - accuracy: 0.5176 - val_loss: 0.9859 - val_accuracy: 0.5513\n",
      "Epoch 47/100\n",
      "89/89 [==============================] - 0s 2ms/step - loss: 0.9978 - accuracy: 0.5222 - val_loss: 0.9861 - val_accuracy: 0.5499\n",
      "Epoch 48/100\n",
      "89/89 [==============================] - 0s 2ms/step - loss: 0.9990 - accuracy: 0.5109 - val_loss: 0.9857 - val_accuracy: 0.5513\n",
      "Epoch 49/100\n",
      "89/89 [==============================] - 0s 2ms/step - loss: 0.9979 - accuracy: 0.5162 - val_loss: 0.9860 - val_accuracy: 0.5499\n",
      "Epoch 50/100\n",
      "89/89 [==============================] - 0s 2ms/step - loss: 0.9958 - accuracy: 0.5130 - val_loss: 0.9858 - val_accuracy: 0.5485\n",
      "Epoch 51/100\n",
      "89/89 [==============================] - 0s 2ms/step - loss: 0.9955 - accuracy: 0.5074 - val_loss: 0.9863 - val_accuracy: 0.5527\n",
      "Epoch 52/100\n",
      "89/89 [==============================] - 0s 2ms/step - loss: 0.9928 - accuracy: 0.5250 - val_loss: 0.9868 - val_accuracy: 0.5527\n",
      "Epoch 53/100\n",
      "89/89 [==============================] - 0s 3ms/step - loss: 0.9988 - accuracy: 0.5099 - val_loss: 0.9869 - val_accuracy: 0.5541\n",
      "Epoch 54/100\n",
      "89/89 [==============================] - 0s 2ms/step - loss: 0.9933 - accuracy: 0.5141 - val_loss: 0.9863 - val_accuracy: 0.5541\n",
      "Epoch 55/100\n",
      "89/89 [==============================] - 0s 2ms/step - loss: 0.9941 - accuracy: 0.5197 - val_loss: 0.9867 - val_accuracy: 0.5556\n",
      "Epoch 56/100\n",
      "89/89 [==============================] - 0s 2ms/step - loss: 0.9898 - accuracy: 0.5134 - val_loss: 0.9873 - val_accuracy: 0.5471\n",
      "Epoch 57/100\n",
      "89/89 [==============================] - 0s 2ms/step - loss: 0.9954 - accuracy: 0.5148 - val_loss: 0.9875 - val_accuracy: 0.5499\n",
      "Epoch 58/100\n",
      "89/89 [==============================] - 0s 3ms/step - loss: 0.9965 - accuracy: 0.5172 - val_loss: 0.9883 - val_accuracy: 0.5471\n"
     ]
    },
    {
     "data": {
      "image/png": "[encoded data removed]",
      "text/plain": [
       "<Figure size 1080x504 with 1 Axes>"
      ]
     },
     "metadata": {
      "needs_background": "light"
     },
     "output_type": "display_data"
    },
    {
     "name": "stderr",
     "output_type": "stream",
     "text": [
      "2022-03-06 16:41:05.040534: W tensorflow/python/util/util.cc:368] Sets are not currently considered sequences, but this may change in the future, so consider avoiding using them.\n"
     ]
    },
    {
     "name": "stdout",
     "output_type": "stream",
     "text": [
      "INFO:tensorflow:Assets written to: model/assets\n",
      "Model saved in model\n"
     ]
    }
   ],
   "source": [
    "predictor.train(plot=True, save_model=True)"
   ]
  },
  {
   "cell_type": "code",
   "execution_count": null,
   "id": "463d5c49",
   "metadata": {},
   "outputs": [],
   "source": []
  }
 ],
 "metadata": {
  "kernelspec": {
   "display_name": "Python 3 (ipykernel)",
   "language": "python",
   "name": "python3"
  },
  "language_info": {
   "codemirror_mode": {
    "name": "ipython",
    "version": 3
   },
   "file_extension": ".py",
   "mimetype": "text/x-python",
   "name": "python",
   "nbconvert_exporter": "python",
   "pygments_lexer": "ipython3",
   "version": "3.9.7"
  }
 },
 "nbformat": 4,
 "nbformat_minor": 5
}
