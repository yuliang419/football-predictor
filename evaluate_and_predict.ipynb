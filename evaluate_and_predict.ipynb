{
 "cells": [
  {
   "cell_type": "code",
   "execution_count": 1,
   "id": "0e0e1b94",
   "metadata": {
    "scrolled": true
   },
   "outputs": [],
   "source": [
    "import tensorflow as tf\n",
    "import pandas as pd\n",
    "import numpy as np\n",
    "import dataset\n",
    "import predict"
   ]
  },
  {
   "cell_type": "code",
   "execution_count": 2,
   "id": "73be0cf2",
   "metadata": {},
   "outputs": [],
   "source": [
    "data = pd.read_csv('data/EPL_processed_results.csv', index_col=0)\n",
    "X_train, y_train, X_val, y_val, X_test, y_test = dataset.generate_train_val_test_sets(data)"
   ]
  },
  {
   "cell_type": "markdown",
   "id": "b9f73839",
   "metadata": {},
   "source": [
    "# Load a trained model"
   ]
  },
  {
   "cell_type": "code",
   "execution_count": 3,
   "id": "cf6432ae",
   "metadata": {},
   "outputs": [
    {
     "name": "stderr",
     "output_type": "stream",
     "text": [
      "2022-04-03 15:19:36.037025: I tensorflow/core/platform/cpu_feature_guard.cc:151] This TensorFlow binary is optimized with oneAPI Deep Neural Network Library (oneDNN) to use the following CPU instructions in performance-critical operations:  SSE4.1 SSE4.2 AVX AVX2 FMA\n",
      "To enable them in other operations, rebuild TensorFlow with the appropriate compiler flags.\n"
     ]
    }
   ],
   "source": [
    "predictor = predict.Predictor()\n",
    "predictor.load_saved_model('model')"
   ]
  },
  {
   "cell_type": "markdown",
   "id": "53e77472",
   "metadata": {},
   "source": [
    "# Evaluate on test set"
   ]
  },
  {
   "cell_type": "code",
   "execution_count": 4,
   "id": "d04e0774",
   "metadata": {},
   "outputs": [
    {
     "name": "stdout",
     "output_type": "stream",
     "text": [
      "9/9 [==============================] - 1s 3ms/step - loss: 0.9875 - accuracy: 0.5324\n"
     ]
    }
   ],
   "source": [
    "loss, acc = predictor.evaluate(X_test, y_test)"
   ]
  },
  {
   "cell_type": "markdown",
   "id": "17abf25f",
   "metadata": {},
   "source": [
    "The trained model has an accuracy of 0.5324 on the test set. Let's compare this with a simple benchmark: guess a home win for every single game."
   ]
  },
  {
   "cell_type": "code",
   "execution_count": 5,
   "id": "38592ff5",
   "metadata": {},
   "outputs": [
    {
     "name": "stdout",
     "output_type": "stream",
     "text": [
      "Accuracy of naive benchmark: 0.4209\n"
     ]
    }
   ],
   "source": [
    "from sklearn.metrics import accuracy_score\n",
    "y_pred_naive = [[1, 0, 0]] * len(y_test)\n",
    "acc_naive = accuracy_score(y_test, y_pred_naive)\n",
    "\n",
    "print(\"Accuracy of naive benchmark: %.4f\" % acc_naive)"
   ]
  },
  {
   "cell_type": "markdown",
   "id": "d216736b",
   "metadata": {},
   "source": [
    "Our model achieves a better accuracy than the naive benchmark."
   ]
  },
  {
   "cell_type": "markdown",
   "id": "52942e82",
   "metadata": {},
   "source": [
    "# Predict on a new sample"
   ]
  },
  {
   "cell_type": "markdown",
   "id": "65fca73f",
   "metadata": {},
   "source": [
    "To make a prediction on a new match, we need to format it the same way as the rest of the dataset, i.e. as a dataframe with the required columns (see predict.py for a list of required columns). Here is an example."
   ]
  },
  {
   "cell_type": "code",
   "execution_count": 6,
   "id": "0b4d9ef9",
   "metadata": {},
   "outputs": [
    {
     "name": "stdout",
     "output_type": "stream",
     "text": [
      "       Season        Date HomeTeam     AwayTeam FTR HomeGoals AwayGoals  \\\n",
      "3556  2021-22  2021-08-14  Everton  Southampton   H         3         1   \n",
      "\n",
      "     StandingDiff HomeWins AwayWins  ... AvgHomeShots AvgAwayShots  \\\n",
      "3556           -5     20.0      0.0  ...         15.8         12.8   \n",
      "\n",
      "     AvgHomeShotsOnTarget AvgAwayShotsOnTarget AvgHomeCorners AvgAwayCorners  \\\n",
      "3556                  5.4                  5.2            6.0            5.4   \n",
      "\n",
      "     AvgHomeGoalsConceded AvgAwayGoalsConceded AvgHomeShotsConceded  \\\n",
      "3556                  1.2                  3.0                 11.4   \n",
      "\n",
      "     AvgAwayShotsConceded  \n",
      "3556                 14.4  \n",
      "\n",
      "[1 rows x 24 columns]\n"
     ]
    }
   ],
   "source": [
    "sample = data.iloc[3556].to_frame().transpose()\n",
    "print(sample)"
   ]
  },
  {
   "cell_type": "code",
   "execution_count": 7,
   "id": "f18391a4",
   "metadata": {},
   "outputs": [
    {
     "name": "stdout",
     "output_type": "stream",
     "text": [
      "Predicted outcome: 0.5233 home win - 0.2332 draw - 0.2435 away win\n"
     ]
    }
   ],
   "source": [
    "predictor.predict(sample)"
   ]
  }
 ],
 "metadata": {
  "kernelspec": {
   "display_name": "Python 3 (ipykernel)",
   "language": "python",
   "name": "python3"
  },
  "language_info": {
   "codemirror_mode": {
    "name": "ipython",
    "version": 3
   },
   "file_extension": ".py",
   "mimetype": "text/x-python",
   "name": "python",
   "nbconvert_exporter": "python",
   "pygments_lexer": "ipython3",
   "version": "3.9.7"
  }
 },
 "nbformat": 4,
 "nbformat_minor": 5
}
