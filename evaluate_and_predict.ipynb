{
 "cells": [
  {
   "cell_type": "code",
   "execution_count": 1,
   "id": "0e0e1b94",
   "metadata": {},
   "outputs": [],
   "source": [
    "import tensorflow as tf\n",
    "import pandas as pd\n",
    "import numpy as np\n",
    "import dataset\n",
    "import predict"
   ]
  },
  {
   "cell_type": "code",
   "execution_count": 2,
   "id": "73be0cf2",
   "metadata": {},
   "outputs": [],
   "source": [
    "data = pd.read_csv('data/EPL_processed_results.csv', index_col=0)\n",
    "X_train, y_train, X_val, y_val, X_test, y_test = dataset.generate_train_val_test_sets(data)"
   ]
  },
  {
   "cell_type": "markdown",
   "id": "b9f73839",
   "metadata": {},
   "source": [
    "# Load a trained model"
   ]
  },
  {
   "cell_type": "code",
   "execution_count": 3,
   "id": "cf6432ae",
   "metadata": {},
   "outputs": [
    {
     "name": "stderr",
     "output_type": "stream",
     "text": [
      "2022-03-06 23:36:44.478166: I tensorflow/core/platform/cpu_feature_guard.cc:151] This TensorFlow binary is optimized with oneAPI Deep Neural Network Library (oneDNN) to use the following CPU instructions in performance-critical operations:  SSE4.1 SSE4.2 AVX AVX2 FMA\n",
      "To enable them in other operations, rebuild TensorFlow with the appropriate compiler flags.\n"
     ]
    }
   ],
   "source": [
    "predictor = predict.Predictor()\n",
    "predictor.load_saved_model('model')"
   ]
  },
  {
   "cell_type": "markdown",
   "id": "53e77472",
   "metadata": {},
   "source": [
    "# Evaluate on test set"
   ]
  },
  {
   "cell_type": "code",
   "execution_count": 4,
   "id": "d04e0774",
   "metadata": {},
   "outputs": [
    {
     "name": "stdout",
     "output_type": "stream",
     "text": [
      "8/8 [==============================] - 1s 3ms/step - loss: 0.9863 - accuracy: 0.5294\n"
     ]
    }
   ],
   "source": [
    "loss, acc = predictor.evaluate(X_test, y_test)"
   ]
  },
  {
   "cell_type": "markdown",
   "id": "52942e82",
   "metadata": {},
   "source": [
    "# Predict on a new sample"
   ]
  },
  {
   "cell_type": "code",
   "execution_count": 5,
   "id": "0b4d9ef9",
   "metadata": {},
   "outputs": [],
   "source": [
    "sample = X_test.iloc[2].to_frame().transpose()"
   ]
  },
  {
   "cell_type": "code",
   "execution_count": 6,
   "id": "f18391a4",
   "metadata": {},
   "outputs": [
    {
     "data": {
      "text/html": [
       "<div>\n",
       "<style scoped>\n",
       "    .dataframe tbody tr th:only-of-type {\n",
       "        vertical-align: middle;\n",
       "    }\n",
       "\n",
       "    .dataframe tbody tr th {\n",
       "        vertical-align: top;\n",
       "    }\n",
       "\n",
       "    .dataframe thead th {\n",
       "        text-align: right;\n",
       "    }\n",
       "</style>\n",
       "<table border=\"1\" class=\"dataframe\">\n",
       "  <thead>\n",
       "    <tr style=\"text-align: right;\">\n",
       "      <th></th>\n",
       "      <th>A</th>\n",
       "      <th>D</th>\n",
       "      <th>H</th>\n",
       "    </tr>\n",
       "  </thead>\n",
       "  <tbody>\n",
       "    <tr>\n",
       "      <th>0</th>\n",
       "      <td>0.038503</td>\n",
       "      <td>0.018446</td>\n",
       "      <td>0.94305</td>\n",
       "    </tr>\n",
       "  </tbody>\n",
       "</table>\n",
       "</div>"
      ],
      "text/plain": [
       "          A         D        H\n",
       "0  0.038503  0.018446  0.94305"
      ]
     },
     "execution_count": 6,
     "metadata": {},
     "output_type": "execute_result"
    }
   ],
   "source": [
    "predictor.predict(sample)"
   ]
  }
 ],
 "metadata": {
  "kernelspec": {
   "display_name": "Python 3 (ipykernel)",
   "language": "python",
   "name": "python3"
  },
  "language_info": {
   "codemirror_mode": {
    "name": "ipython",
    "version": 3
   },
   "file_extension": ".py",
   "mimetype": "text/x-python",
   "name": "python",
   "nbconvert_exporter": "python",
   "pygments_lexer": "ipython3",
   "version": "3.9.7"
  }
 },
 "nbformat": 4,
 "nbformat_minor": 5
}
