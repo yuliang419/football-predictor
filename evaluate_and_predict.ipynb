{
 "cells": [
  {
   "cell_type": "code",
   "execution_count": 1,
   "id": "0e0e1b94",
   "metadata": {},
   "outputs": [],
   "source": [
    "import tensorflow as tf\n",
    "import pandas as pd\n",
    "import numpy as np\n",
    "import dataset\n",
    "import predict"
   ]
  },
  {
   "cell_type": "code",
   "execution_count": 2,
   "id": "73be0cf2",
   "metadata": {},
   "outputs": [],
   "source": [
    "data = pd.read_csv('data/EPL_processed_results.csv', index_col=0)\n",
    "X_train, y_train, X_val, y_val, X_test, y_test = dataset.generate_train_val_test_sets(data)"
   ]
  },
  {
   "cell_type": "markdown",
   "id": "b9f73839",
   "metadata": {},
   "source": [
    "Load a trained model"
   ]
  },
  {
   "cell_type": "code",
   "execution_count": 3,
   "id": "cf6432ae",
   "metadata": {},
   "outputs": [
    {
     "name": "stderr",
     "output_type": "stream",
     "text": [
      "2022-03-06 16:42:25.041817: I tensorflow/core/platform/cpu_feature_guard.cc:151] This TensorFlow binary is optimized with oneAPI Deep Neural Network Library (oneDNN) to use the following CPU instructions in performance-critical operations:  SSE4.1 SSE4.2 AVX AVX2 FMA\n",
      "To enable them in other operations, rebuild TensorFlow with the appropriate compiler flags.\n"
     ]
    }
   ],
   "source": [
    "predictor = predict.Predictor()\n",
    "predictor.load_saved_model('model')"
   ]
  },
  {
   "cell_type": "markdown",
   "id": "53e77472",
   "metadata": {},
   "source": [
    "Evaluate on test set"
   ]
  },
  {
   "cell_type": "code",
   "execution_count": 5,
   "id": "d04e0774",
   "metadata": {},
   "outputs": [
    {
     "name": "stdout",
     "output_type": "stream",
     "text": [
      "8/8 [==============================] - 1s 4ms/step - loss: 0.9863 - accuracy: 0.5294\n"
     ]
    }
   ],
   "source": [
    "loss, acc = predictor.evaluate(X_test, y_test)"
   ]
  },
  {
   "cell_type": "markdown",
   "id": "52942e82",
   "metadata": {},
   "source": [
    "Predict on a new sample"
   ]
  },
  {
   "cell_type": "code",
   "execution_count": null,
   "id": "0b4d9ef9",
   "metadata": {},
   "outputs": [],
   "source": []
  }
 ],
 "metadata": {
  "kernelspec": {
   "display_name": "Python 3 (ipykernel)",
   "language": "python",
   "name": "python3"
  },
  "language_info": {
   "codemirror_mode": {
    "name": "ipython",
    "version": 3
   },
   "file_extension": ".py",
   "mimetype": "text/x-python",
   "name": "python",
   "nbconvert_exporter": "python",
   "pygments_lexer": "ipython3",
   "version": "3.9.7"
  }
 },
 "nbformat": 4,
 "nbformat_minor": 5
}
